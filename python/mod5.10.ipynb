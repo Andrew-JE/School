{
 "cells": [
  {
   "cell_type": "code",
   "execution_count": 3,
   "metadata": {},
   "outputs": [
    {
     "name": "stdout",
     "output_type": "stream",
     "text": [
      "User score: 4\n"
     ]
    }
   ],
   "source": [
    "user_score = 0\n",
    "simon_pattern = input()\n",
    "user_pattern  = input()\n",
    "\n",
    "for i in range(len(simon_pattern)):\n",
    "    if user_pattern[i] == simon_pattern[i]:\n",
    "        user_score += 1\n",
    "    else:\n",
    "        break\n",
    "\n",
    "print(f'User score: {user_score}')"
   ]
  }
 ],
 "metadata": {
  "kernelspec": {
   "display_name": "Python 3",
   "language": "python",
   "name": "python3"
  },
  "language_info": {
   "codemirror_mode": {
    "name": "ipython",
    "version": 3
   },
   "file_extension": ".py",
   "mimetype": "text/x-python",
   "name": "python",
   "nbconvert_exporter": "python",
   "pygments_lexer": "ipython3",
   "version": "3.10.9"
  },
  "orig_nbformat": 4,
  "vscode": {
   "interpreter": {
    "hash": "fdae097ff6608b61c57ad9a2af23b6f90ce9d579b2e56b2697630202e9ca4d90"
   }
  }
 },
 "nbformat": 4,
 "nbformat_minor": 2
}
