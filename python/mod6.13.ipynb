{
 "cells": [
  {
   "cell_type": "code",
   "execution_count": null,
   "metadata": {},
   "outputs": [],
   "source": [
    "def number_of_pennies(num_of_dollars, num_of_pennies = 0): # Set num_of_pennies equal to 0 as the default for when only dollars are given\n",
    "    num_of_pennies += num_of_dollars * 100\n",
    "    return num_of_pennies \n",
    "    \n",
    "\n",
    "print(number_of_pennies(int(input()), int(input()))) # Both dollars and pennies\n",
    "print(number_of_pennies(int(input())))               # Dollars only"
   ]
  },
  {
   "cell_type": "code",
   "execution_count": null,
   "metadata": {},
   "outputs": [],
   "source": [
    "# FIXME: Write the split_check function. HINT: Calculate the amount of tip and tax,\n",
    "# add to the bill total, then divide by the number of diners.\n",
    "\n",
    "def split_check(bill, people, tax_percentage = 0.09, tip_percentage = 0.15):\n",
    "    split_bill = (bill + bill * tip_percentage + bill * tax_percentage) / people\n",
    "    return split_bill\n",
    "\n",
    "bill = float(input())\n",
    "people = int(input())\n",
    "\n",
    "# Cost per diner at the default tax and tip percentages\n",
    "print(f'Cost per diner: ${split_check(bill, people):.2f}')\n",
    "\n",
    "bill = float(input())\n",
    "people = int(input())\n",
    "new_tax_percentage = float(input())\n",
    "new_tip_percentage = float(input())\n",
    "\n",
    "# Cost per diner at different tax and tip percentages\n",
    "print(f'Cost per diner: ${split_check(bill, people, new_tax_percentage, new_tip_percentage):.2f}')"
   ]
  }
 ],
 "metadata": {
  "language_info": {
   "name": "python"
  },
  "orig_nbformat": 4
 },
 "nbformat": 4,
 "nbformat_minor": 2
}
