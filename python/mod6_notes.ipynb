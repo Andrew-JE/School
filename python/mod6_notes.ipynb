{
 "cells": [
  {
   "cell_type": "code",
   "execution_count": 28,
   "metadata": {},
   "outputs": [
    {
     "data": {
      "text/plain": [
       "True"
      ]
     },
     "execution_count": 28,
     "metadata": {},
     "output_type": "execute_result"
    }
   ],
   "source": [
    "def sleep_in(weekday, vacation):\n",
    "    if (not weekday) or vacation:\n",
    "        return True\n",
    "    else:\n",
    "        return False \n",
    "\n",
    "sleep_in(False, True)"
   ]
  },
  {
   "cell_type": "code",
   "execution_count": 2,
   "metadata": {},
   "outputs": [
    {
     "name": "stdout",
     "output_type": "stream",
     "text": [
      "True\n",
      "True\n",
      "False\n",
      "True\n"
     ]
    }
   ],
   "source": [
    "def sleep_in(weekday, vacation):\n",
    "    return (not weekday) or vacation\n",
    "\n",
    "print(sleep_in(False, True))\n",
    "print(sleep_in(True, True))\n",
    "print(sleep_in(True, False))\n",
    "print(sleep_in(False, False))"
   ]
  },
  {
   "cell_type": "code",
   "execution_count": 24,
   "metadata": {},
   "outputs": [
    {
     "name": "stdout",
     "output_type": "stream",
     "text": [
      "True\n",
      "False\n",
      "False\n",
      "True\n"
     ]
    }
   ],
   "source": [
    "def monkey_trouble(a_smile, b_smile):\n",
    "    if a_smile and b_smile or not a_smile and not b_smile:\n",
    "        return True\n",
    "    else:\n",
    "        return False\n",
    "\n",
    "print(monkey_trouble(True, True))\n",
    "print(monkey_trouble(True, False))\n",
    "print(monkey_trouble(False, True))\n",
    "print(monkey_trouble(False, False))"
   ]
  },
  {
   "cell_type": "code",
   "execution_count": 34,
   "metadata": {},
   "outputs": [
    {
     "data": {
      "text/plain": [
       "14"
      ]
     },
     "execution_count": 34,
     "metadata": {},
     "output_type": "execute_result"
    }
   ],
   "source": [
    "def sum_double(a,b):\n",
    "    sum = a + b\n",
    "    if a == b:\n",
    "        return sum * 2\n",
    "    else:\n",
    "        return sum\n",
    "\n",
    "a = int(input())\n",
    "b = int(input())\n",
    "sum_double(a,b)        "
   ]
  },
  {
   "cell_type": "code",
   "execution_count": 37,
   "metadata": {},
   "outputs": [
    {
     "name": "stdout",
     "output_type": "stream",
     "text": [
      "3\n",
      "5\n",
      "8\n"
     ]
    }
   ],
   "source": [
    "def sum_double(a,b):\n",
    "    sum = a + b\n",
    "    if a == b:\n",
    "        return sum * 2\n",
    "    else:\n",
    "        return sum\n",
    "\n",
    "print(sum_double(1,2))\n",
    "print(sum_double(3,2))\n",
    "print(sum_double(2,2))"
   ]
  },
  {
   "cell_type": "code",
   "execution_count": null,
   "metadata": {},
   "outputs": [],
   "source": []
  }
 ],
 "metadata": {
  "kernelspec": {
   "display_name": "Python 3",
   "language": "python",
   "name": "python3"
  },
  "language_info": {
   "codemirror_mode": {
    "name": "ipython",
    "version": 3
   },
   "file_extension": ".py",
   "mimetype": "text/x-python",
   "name": "python",
   "nbconvert_exporter": "python",
   "pygments_lexer": "ipython3",
   "version": "3.7.8 (tags/v3.7.8:4b47a5b6ba, Jun 28 2020, 08:53:46) [MSC v.1916 64 bit (AMD64)]"
  },
  "orig_nbformat": 4,
  "vscode": {
   "interpreter": {
    "hash": "0a54084e6b208ee8d1ce3989ffc20924477a5f55f5a43e22e699a6741623861e"
   }
  }
 },
 "nbformat": 4,
 "nbformat_minor": 2
}
