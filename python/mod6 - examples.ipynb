{
 "cells": [
  {
   "cell_type": "code",
   "execution_count": 1,
   "metadata": {},
   "outputs": [
    {
     "name": "stdout",
     "output_type": "stream",
     "text": [
      "7/30/2012\n",
      "30/7/2012\n",
      "7/30/2012\n"
     ]
    }
   ],
   "source": [
    "def print_date(day, month, year, style=0):\n",
    "    if style == 0:  # American\n",
    "        print(f'{month}/{day}/{year}')\n",
    "    elif style == 1:  # European\n",
    "        print(f'{day}/{month}/{year}')\n",
    "    else:\n",
    "        print('Invalid Style')\n",
    "\n",
    "print_date(30, 7, 2012, 0)\n",
    "print_date(30, 7, 2012, 1)\n",
    "print_date(30, 7, 2012)"
   ]
  },
  {
   "cell_type": "code",
   "execution_count": 2,
   "metadata": {},
   "outputs": [
    {
     "name": "stdout",
     "output_type": "stream",
     "text": [
      "Average score: 73.33333333333333\n",
      "Standard deviation: 15.260697523012796\n"
     ]
    }
   ],
   "source": [
    "student_scores = [75, 84, 66, 99, 51, 65]\n",
    "\n",
    "def get_grade_stats(scores):\n",
    "    # Calculate the arithmetic mean\n",
    "    mean = sum(scores)/len(scores)\n",
    "    \n",
    "    # Calculate the standard deviation\n",
    "    tmp = 0\n",
    "    for score in scores:\n",
    "        tmp += (score - mean )**2\n",
    "    std_dev = (tmp/len(scores))**0.5\n",
    "\n",
    "    # Package and return average, standard deviation in a tuple\n",
    "    return mean, std_dev\n",
    "\n",
    "# Unpack tuple\n",
    "average, standard_deviation = get_grade_stats(student_scores)\n",
    "\n",
    "print(f'Average score: {average}')\n",
    "print(f'Standard deviation: {standard_deviation}')"
   ]
  },
  {
   "cell_type": "code",
   "execution_count": 9,
   "metadata": {},
   "outputs": [
    {
     "name": "stdout",
     "output_type": "stream",
     "text": [
      "45.0\n",
      "45.0\n",
      "45.0\n",
      "Time   1 x =   0 y =  45\n",
      "Time   2 x =  32 y =  72\n",
      "Time   3 x =  64 y =  89\n",
      "Time   4 x =  95 y =  96\n",
      "Time   5 x = 127 y =  94\n",
      "Time   6 x = 159 y =  81\n",
      "Time   7 x = 191 y =  59\n",
      "Time   8 x = 223 y =  27\n"
     ]
    }
   ],
   "source": [
    "import math\n",
    "\n",
    "def trajectory(t, a, v, g, h): \n",
    "    \"\"\"Calculates new x,y position\"\"\" \n",
    "    x = v * t * math.cos(a) \n",
    "    y = h + v * t * math.sin(a) - 0.5 * g * t * t \n",
    "    return (x,y)\n",
    "\n",
    "def degree_to_radians(degrees): \n",
    "    \"\"\"Converts degrees to radians\"\"\" \n",
    "    return ((degrees * math.pi) / 180.0)\n",
    "\n",
    "gravity = 9.81 # Earth gravity (m/s^2) \n",
    "time = 1.0 # time (s) \n",
    "x_loc = 0 \n",
    "h = 0 \n",
    "\n",
    "angle = float(input('Launch angle (deg): ')) \n",
    "print(angle) \n",
    "angle = degree_to_radians(angle)\n",
    "\n",
    "velocity = float(input('Launch velocity (m/s): ')) \n",
    "print(velocity)\n",
    "\n",
    "height = float(input('Initial height (m): '))  \n",
    "y_loc = height \n",
    "print(y_loc)\n",
    "\n",
    "while ( y_loc >= 0.0 ): # While above ground \n",
    "    print(f'Time {time:3.0f} x = {x_loc:3.0f} y = {y_loc:3.0f}')\n",
    "    x_loc, y_loc = trajectory(time, angle, velocity, gravity, height)  \n",
    "    time += 1.0\n",
    " "
   ]
  }
 ],
 "metadata": {
  "kernelspec": {
   "display_name": "Python 3",
   "language": "python",
   "name": "python3"
  },
  "language_info": {
   "codemirror_mode": {
    "name": "ipython",
    "version": 3
   },
   "file_extension": ".py",
   "mimetype": "text/x-python",
   "name": "python",
   "nbconvert_exporter": "python",
   "pygments_lexer": "ipython3",
   "version": "3.7.8 (tags/v3.7.8:4b47a5b6ba, Jun 28 2020, 08:53:46) [MSC v.1916 64 bit (AMD64)]"
  },
  "orig_nbformat": 4,
  "vscode": {
   "interpreter": {
    "hash": "0a54084e6b208ee8d1ce3989ffc20924477a5f55f5a43e22e699a6741623861e"
   }
  }
 },
 "nbformat": 4,
 "nbformat_minor": 2
}
