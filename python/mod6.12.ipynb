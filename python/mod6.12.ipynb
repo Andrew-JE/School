{
 "cells": [
  {
   "cell_type": "code",
   "execution_count": null,
   "metadata": {},
   "outputs": [],
   "source": [
    "def swap(values_list):\n",
    "    # Set first list item equal to temp variable\n",
    "    temp = values_list[0]\n",
    "    # Change first item of list to last item of list\n",
    "    values_list[0] = values_list[len(values_list) -1]\n",
    "    # Change last item of list equal to the temp variable, which has stored the first item of the initial list\n",
    "    values_list[len(values_list) - 1] = temp\n",
    "\n",
    "values_list = input().split(',')  # Program receives comma-separated values like 5,4,12,19\n",
    "swap(values_list)\n",
    "\n",
    "print(values_list)"
   ]
  }
 ],
 "metadata": {
  "language_info": {
   "name": "python"
  },
  "orig_nbformat": 4
 },
 "nbformat": 4,
 "nbformat_minor": 2
}
