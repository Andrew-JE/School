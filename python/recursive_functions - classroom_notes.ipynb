{
 "cells": [
  {
   "cell_type": "code",
   "execution_count": 2,
   "metadata": {},
   "outputs": [
    {
     "name": "stdout",
     "output_type": "stream",
     "text": [
      "25\n",
      "25\n"
     ]
    }
   ],
   "source": [
    "def list_sum(num_list):\n",
    "    the_sum = 0\n",
    "    for i in num_list:\n",
    "        the_sum = the_sum + i\n",
    "    return the_sum\n",
    "\n",
    "print(list_sum([1,3,5,7,9]))\n",
    "\n",
    "# Without a for loop\n",
    "\n",
    "def list_sum(num_list):\n",
    "    if len(num_list) == 1:\n",
    "        return num_list[0]\n",
    "    else:\n",
    "        return num_list[0] + list_sum(num_list[1:])\n",
    "    \n",
    "print(list_sum([1,3,5,7,9]))"
   ]
  },
  {
   "cell_type": "code",
   "execution_count": 12,
   "metadata": {},
   "outputs": [
    {
     "name": "stdout",
     "output_type": "stream",
     "text": [
      "[1, 2, 3, 4, 5, 6]\n"
     ]
    }
   ],
   "source": [
    "def flatten(in_list):\n",
    "    out_list = []\n",
    "    for i in in_list:\n",
    "        if isinstance(i, list):\n",
    "            out_list.extend(flatten(i))\n",
    "        else:\n",
    "            out_list.append(i)\n",
    "    return out_list\n",
    "\n",
    "print(flatten([1, [2, 3, [4, 5, 6]]]))"
   ]
  },
  {
   "cell_type": "code",
   "execution_count": null,
   "metadata": {},
   "outputs": [
    {
     "name": "stdout",
     "output_type": "stream",
     "text": [
      "0 1 1 2 3 5 8 13 21\n"
     ]
    }
   ],
   "source": [
    "# # Fibonacci sequence\n",
    "\n",
    "# num = int(input())\n",
    "# fib_list = []\n",
    "# for i in range(num):\n",
    "#     fib_list.append(fib(i)+)\n",
    "\n",
    "def f(n):\n",
    "    if n <= 1:\n",
    "        return n\n",
    "    else:\n",
    "        m2, m1 = 0, 1\n",
    "        for i in range(2, n+1):\n",
    "            f = m2 + m1\n",
    "            m2 = m1\n",
    "            m1 = f\n",
    "        return f\n",
    "    \n",
    "print(f(0),f(1),f(2),f(3),f(4),f(5),f(6),f(7),f(8))"
   ]
  }
 ],
 "metadata": {
  "kernelspec": {
   "display_name": "Python 3",
   "language": "python",
   "name": "python3"
  },
  "language_info": {
   "codemirror_mode": {
    "name": "ipython",
    "version": 3
   },
   "file_extension": ".py",
   "mimetype": "text/x-python",
   "name": "python",
   "nbconvert_exporter": "python",
   "pygments_lexer": "ipython3",
   "version": "3.7.8"
  },
  "orig_nbformat": 4,
  "vscode": {
   "interpreter": {
    "hash": "0a54084e6b208ee8d1ce3989ffc20924477a5f55f5a43e22e699a6741623861e"
   }
  }
 },
 "nbformat": 4,
 "nbformat_minor": 2
}
