{
 "cells": [
  {
   "cell_type": "code",
   "execution_count": 1,
   "metadata": {},
   "outputs": [],
   "source": [
    "user_input = input()\n",
    "entries = user_input.split(',')\n",
    "country_pop = {}\n",
    "\n",
    "for pair in entries:\n",
    "    split_pair = pair.split(':')\n",
    "    country_pop[split_pair[0]] = split_pair[1]\n",
    "    # country_pop is a dictionary, Ex: { 'Germany':'82790000', 'France':'67190000' }\n",
    "\n",
    "for country in country_pop:\n",
    "    pop = country_pop[country]\n",
    "\n",
    "    print(f'{country} has {pop} people.')"
   ]
  }
 ],
 "metadata": {
  "kernelspec": {
   "display_name": "Python 3",
   "language": "python",
   "name": "python3"
  },
  "language_info": {
   "codemirror_mode": {
    "name": "ipython",
    "version": 3
   },
   "file_extension": ".py",
   "mimetype": "text/x-python",
   "name": "python",
   "nbconvert_exporter": "python",
   "pygments_lexer": "ipython3",
   "version": "3.10.10"
  },
  "orig_nbformat": 4,
  "vscode": {
   "interpreter": {
    "hash": "fdae097ff6608b61c57ad9a2af23b6f90ce9d579b2e56b2697630202e9ca4d90"
   }
  }
 },
 "nbformat": 4,
 "nbformat_minor": 2
}
