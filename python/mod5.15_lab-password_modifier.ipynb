{
 "cells": [
  {
   "cell_type": "code",
   "execution_count": 1,
   "metadata": {},
   "outputs": [
    {
     "name": "stdout",
     "output_type": "stream",
     "text": [
      "Myp@$$word!\n"
     ]
    }
   ],
   "source": [
    "word = input()\n",
    "password = ''   \n",
    "\n",
    "for char in word:\n",
    "    if char == 'i':\n",
    "        password += '1'\n",
    "    elif char == 'a':\n",
    "        password += '@'\n",
    "    elif char == 'm':\n",
    "        password += 'M'    \n",
    "    elif char == 'B':\n",
    "        password += '8'\n",
    "    elif char == 's':\n",
    "        password += '$'\n",
    "    else:\n",
    "        password += char\n",
    "print(password + '!')\n",
    "      "
   ]
  }
 ],
 "metadata": {
  "kernelspec": {
   "display_name": "Python 3",
   "language": "python",
   "name": "python3"
  },
  "language_info": {
   "codemirror_mode": {
    "name": "ipython",
    "version": 3
   },
   "file_extension": ".py",
   "mimetype": "text/x-python",
   "name": "python",
   "nbconvert_exporter": "python",
   "pygments_lexer": "ipython3",
   "version": "3.10.9 (tags/v3.10.9:1dd9be6, Dec  6 2022, 20:01:21) [MSC v.1934 64 bit (AMD64)]"
  },
  "orig_nbformat": 4,
  "vscode": {
   "interpreter": {
    "hash": "fdae097ff6608b61c57ad9a2af23b6f90ce9d579b2e56b2697630202e9ca4d90"
   }
  }
 },
 "nbformat": 4,
 "nbformat_minor": 2
}
