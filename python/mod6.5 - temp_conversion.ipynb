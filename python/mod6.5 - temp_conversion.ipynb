{
 "cells": [
  {
   "cell_type": "code",
   "execution_count": 2,
   "metadata": {},
   "outputs": [
    {
     "name": "stdout",
     "output_type": "stream",
     "text": [
      "fahrenheit: 122.0\n"
     ]
    }
   ],
   "source": [
    "def c_to_f():\n",
    "    temp_f = temp_c * 9/5 + 32\n",
    "    return temp_f\n",
    "\n",
    "temp_c = float(input('Enter temperature in Celsius: '))\n",
    "temp_f = None\n",
    "\n",
    "# FIXME: Call conversion function\n",
    "temp_f = c_to_f()\n",
    "\n",
    "# FIXME: Print result\n",
    "print(f'fahrenheit: {temp_f}')\n",
    " \n",
    " "
   ]
  },
  {
   "cell_type": "code",
   "execution_count": 8,
   "metadata": {},
   "outputs": [
    {
     "name": "stdout",
     "output_type": "stream",
     "text": [
      "7.0\n",
      "6.324555320336759\n"
     ]
    }
   ],
   "source": [
    "import math\n",
    "print(math.sqrt(49))\n",
    "print(math.sqrt(40))"
   ]
  }
 ],
 "metadata": {
  "kernelspec": {
   "display_name": "Python 3",
   "language": "python",
   "name": "python3"
  },
  "language_info": {
   "codemirror_mode": {
    "name": "ipython",
    "version": 3
   },
   "file_extension": ".py",
   "mimetype": "text/x-python",
   "name": "python",
   "nbconvert_exporter": "python",
   "pygments_lexer": "ipython3",
   "version": "3.10.9"
  },
  "orig_nbformat": 4,
  "vscode": {
   "interpreter": {
    "hash": "fdae097ff6608b61c57ad9a2af23b6f90ce9d579b2e56b2697630202e9ca4d90"
   }
  }
 },
 "nbformat": 4,
 "nbformat_minor": 2
}
