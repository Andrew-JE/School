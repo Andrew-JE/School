{
 "cells": [
  {
   "cell_type": "code",
   "execution_count": 8,
   "metadata": {},
   "outputs": [
    {
     "name": "stdout",
     "output_type": "stream",
     "text": [
      "{'Joe': 175, 'Tom': 190, 'Dick': 150}\n",
      "{'Joe': 175, 'Tom': 190, 'Dick': 150, 'Harry': 180}\n",
      "{'Tom': 190, 'Dick': 150, 'Harry': 180}\n",
      "150\n",
      "520\n",
      "dict_items([('Tom', 190), ('Dick', 150), ('Harry', 180)])\n",
      "<class 'dict_items'>\n",
      "('Tom', 190)\n",
      "<class 'tuple'>\n",
      "('Dick', 150)\n",
      "<class 'tuple'>\n",
      "('Harry', 180)\n",
      "<class 'tuple'>\n",
      "('Tom', 190)\n",
      "('Dick', 150)\n",
      "{150: 'Dick', 180: 'Harry', 190: 'Tom'}\n",
      "{150: 'Jerry', 180: 'Harry', 190: 'Tom'}\n"
     ]
    }
   ],
   "source": [
    "weights = {'Joe': 175, 'Tom': 190, 'Dick': 150}\n",
    "print(weights)\n",
    "\n",
    "weights['Harry'] = 180 #Can't use append function with dictionary\n",
    "print(weights)\n",
    "\n",
    "del weights['Joe']\n",
    "print(weights)\n",
    "\n",
    "print(weights['Dick'])\n",
    "\n",
    "#Iterate over dictionary and calculate sum\n",
    "sum = 0\n",
    "for i in weights.values():\n",
    "    sum += i\n",
    "print(sum)\n",
    "\n",
    "#Use method items() to get items in dictionary as returned_items\n",
    "returned_items = weights.items()\n",
    "print(returned_items)\n",
    "print(type(returned_items))\n",
    "\n",
    "#Iterate over returned_items\n",
    "for i in returned_items:\n",
    "    print(i)\n",
    "    print(type(i))\n",
    "\n",
    "# #Use integer index to obtain one of things in returned_items\n",
    "# print(returned_items[1]) #TypeError message returned - object not subscriptable\n",
    "\n",
    "#Convert object to a list and use integer index. Sorting?\n",
    "print(list(returned_items)[0])\n",
    "print(sorted(returned_items)[0])\n",
    "\n",
    "#Swap keys and value in dictionary\n",
    "new_weights = {}\n",
    "for key, value in sorted(weights.items()):\n",
    "    new_weights[value] = key\n",
    "\n",
    "print(new_weights)\n",
    "\n",
    "#Duplicate values: Add Jerry with weight of 150 and run again\n",
    "weights['Jerry'] = 150\n",
    "new_weights = {}\n",
    "for key, value in sorted(weights.items()): \n",
    "    new_weights[value] = key\n",
    "\n",
    "print(new_weights) #'Jerry' replaces 'Dick' as value with weight 150. "
   ]
  },
  {
   "cell_type": "code",
   "execution_count": 9,
   "metadata": {},
   "outputs": [
    {
     "name": "stdout",
     "output_type": "stream",
     "text": [
      "M 1\n",
      "i 4\n",
      "s 4\n",
      "p 2\n"
     ]
    }
   ],
   "source": [
    "s = 'Mississippi'\n",
    "count_dict = {}\n",
    "for c in s:\n",
    "    if c in count_dict:\n",
    "        count_dict[c] = count_dict[c] + 1\n",
    "    else:\n",
    "        count_dict[c] = 1\n",
    "\n",
    "# Let's look at the results\n",
    "\n",
    "for k in count_dict.keys():\n",
    "    print(k,count_dict[k])\n",
    "\n",
    "# Simplified using .get\n",
    "\n",
    "s = 'Mississippi'\n",
    "count_dict = {}\n",
    "for c in s:\n",
    "    count_dict[c] = count_dict.get(c,0) + 1\n",
    "\n",
    "# Let's look at the results\n",
    "\n",
    "for k in count_dict.keys():\n",
    "    print(k,count_dict[k])\n",
    "\n"
   ]
  },
  {
   "cell_type": "code",
   "execution_count": 12,
   "metadata": {},
   "outputs": [
    {
     "name": "stdout",
     "output_type": "stream",
     "text": [
      "1267650600228229401496703205376\n",
      "1 2\n",
      "2 6\n",
      "6 5\n",
      "7 3\n",
      "5 2\n",
      "0 6\n",
      "8 1\n",
      "9 2\n",
      "4 2\n",
      "3 2\n"
     ]
    }
   ],
   "source": [
    "s_num = str(2**100)\n",
    "print(s_num)\n",
    "count_dict = {}\n",
    "for c in s_num:\n",
    "    count_dict[c] = count_dict.get(c,0) + 1\n",
    "\n",
    "# Results\n",
    "\n",
    "for k in count_dict.keys():\n",
    "    print(k, count_dict[k])"
   ]
  },
  {
   "cell_type": "code",
   "execution_count": 16,
   "metadata": {},
   "outputs": [
    {
     "name": "stdout",
     "output_type": "stream",
     "text": [
      "T 1 0.029411764705882353\n",
      "h 1 0.029411764705882353\n",
      "i 3 0.08823529411764706\n",
      "s 3 0.08823529411764706\n",
      "  6 0.17647058823529413\n",
      "j 1 0.029411764705882353\n",
      "u 1 0.029411764705882353\n",
      "t 2 0.058823529411764705\n",
      "a 2 0.058823529411764705\n",
      "p 1 0.029411764705882353\n",
      "r 2 0.058823529411764705\n",
      "o 3 0.08823529411764706\n",
      "f 2 0.058823529411764705\n",
      "g 1 0.029411764705882353\n",
      "e 2 0.058823529411764705\n",
      "n 1 0.029411764705882353\n",
      "l 1 0.029411764705882353\n",
      "y 1 0.029411764705882353\n"
     ]
    }
   ],
   "source": [
    "s = 'This is just a proof of generality'\n",
    "l = list(s)\n",
    "count_dict = {}\n",
    "for c in l:\n",
    "    count_dict[c] = count_dict.get(c,0) + 1\n",
    "\n",
    "#Results\n",
    "\n",
    "for k in count_dict.keys():\n",
    "    print(k, count_dict[k], count_dict[k]/len(l))"
   ]
  },
  {
   "cell_type": "code",
   "execution_count": 21,
   "metadata": {},
   "outputs": [
    {
     "name": "stdout",
     "output_type": "stream",
     "text": [
      "M 1\n",
      "i 4\n",
      "s 4\n",
      "p 2\n",
      " \n",
      "Maximum Count\n",
      "4\n",
      " \n",
      "Items Returned\n",
      "['i', 's']\n"
     ]
    }
   ],
   "source": [
    "s = 'Mississippi'\n",
    "l = list(s)\n",
    "count_dict = {}\n",
    "for c in l:\n",
    "    count_dict[c] = count_dict.get(c,0) + 1\n",
    "\n",
    "#Results\n",
    "\n",
    "for k in count_dict.keys():\n",
    "    print(k, count_dict[k])\n",
    "\n",
    "maxcount = max(count_dict.values())\n",
    "print(' ')\n",
    "print('Maximum Count')\n",
    "print(maxcount)\n",
    "\n",
    "win_list = []\n",
    "for i in count_dict.keys():\n",
    "    if count_dict[i] >= maxcount:\n",
    "        win_list.append(i)\n",
    "print(' ')\n",
    "print('Items Returned')\n",
    "print(win_list)"
   ]
  }
 ],
 "metadata": {
  "kernelspec": {
   "display_name": "Python 3",
   "language": "python",
   "name": "python3"
  },
  "language_info": {
   "codemirror_mode": {
    "name": "ipython",
    "version": 3
   },
   "file_extension": ".py",
   "mimetype": "text/x-python",
   "name": "python",
   "nbconvert_exporter": "python",
   "pygments_lexer": "ipython3",
   "version": "3.7.8"
  },
  "orig_nbformat": 4,
  "vscode": {
   "interpreter": {
    "hash": "0a54084e6b208ee8d1ce3989ffc20924477a5f55f5a43e22e699a6741623861e"
   }
  }
 },
 "nbformat": 4,
 "nbformat_minor": 2
}
