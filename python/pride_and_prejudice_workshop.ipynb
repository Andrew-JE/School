{
 "cells": [
  {
   "cell_type": "code",
   "execution_count": 11,
   "metadata": {},
   "outputs": [
    {
     "name": "stdout",
     "output_type": "stream",
     "text": [
      "13035\n",
      "13035\n",
      "<class 'str'>\n"
     ]
    }
   ],
   "source": [
    "count = 0\n",
    "lines = []\n",
    "fh = open(\"Pride and Prejudice.txt\", \"r\", encoding=\"utf-8\")\n",
    "for line in fh:\n",
    "    lines.append(line)\n",
    "    count = count + 1\n",
    "print(len(lines))\n",
    "print(count)\n",
    "fh.close()\n",
    "\n",
    "print(type(lines[0]))\n"
   ]
  },
  {
   "cell_type": "code",
   "execution_count": 10,
   "metadata": {},
   "outputs": [
    {
     "name": "stdout",
     "output_type": "stream",
     "text": [
      "52.534407364787114\n"
     ]
    }
   ],
   "source": [
    "total = 0\n",
    "for line in lines:\n",
    "    total = total + len(line)\n",
    "avg_length = total/len(lines)\n",
    "\n",
    "print(avg_length)"
   ]
  },
  {
   "cell_type": "code",
   "execution_count": 9,
   "metadata": {},
   "outputs": [
    {
     "name": "stdout",
     "output_type": "stream",
     "text": [
      "0\n"
     ]
    }
   ],
   "source": [
    "count_0 = 0\n",
    "for line in lines:\n",
    "    if len(line) == 0:\n",
    "        count_0 += 1\n",
    "print(count_0)\n"
   ]
  },
  {
   "cell_type": "code",
   "execution_count": 8,
   "metadata": {},
   "outputs": [
    {
     "name": "stdout",
     "output_type": "stream",
     "text": [
      "2314\n"
     ]
    }
   ],
   "source": [
    "count_1 = 0\n",
    "for line in lines:\n",
    "    if len(line) == 1:\n",
    "        count_1 += 1\n",
    "print(count_1)\n"
   ]
  },
  {
   "cell_type": "code",
   "execution_count": 15,
   "metadata": {},
   "outputs": [
    {
     "name": "stdout",
     "output_type": "stream",
     "text": [
      "line 0\n",
      "\n",
      "\n",
      "line 1\n",
      "\n",
      "\n",
      "line 2\n",
      "\n",
      "\n"
     ]
    }
   ],
   "source": [
    "short_lines = [line for line in lines if len(line) == 1]\n",
    "\n",
    "for i in range(3):\n",
    "    print(\"line\", i)\n",
    "    print(short_lines[i])"
   ]
  },
  {
   "cell_type": "code",
   "execution_count": 16,
   "metadata": {},
   "outputs": [
    {
     "name": "stdout",
     "output_type": "stream",
     "text": [
      "\n",
      " 10\n"
     ]
    }
   ],
   "source": [
    "for c in short_lines[0]:\n",
    "    print(c, ord(c))"
   ]
  },
  {
   "cell_type": "code",
   "execution_count": 31,
   "metadata": {},
   "outputs": [
    {
     "name": "stdout",
     "output_type": "stream",
     "text": [
      "PRIDE\n",
      "AND\n",
      "PREJUDICE\n",
      "By\n",
      "Jane\n",
      "Austen\n",
      "Chapter\n",
      "1\n",
      "It\n",
      "is\n",
      "a\n",
      "truth\n",
      "universally\n",
      "acknowledged,\n",
      "that\n",
      "a\n",
      "single\n",
      "man\n",
      "in\n",
      "possession\n",
      "121567\n"
     ]
    }
   ],
   "source": [
    "words = []\n",
    "for line in lines:\n",
    "    lwords = line.split()\n",
    "    for word in lwords:\n",
    "        words.append(word)\n",
    "for i in range(20):\n",
    "    print(words[i])\n",
    "\n",
    "print(len(words))"
   ]
  },
  {
   "cell_type": "code",
   "execution_count": 46,
   "metadata": {},
   "outputs": [
    {
     "name": "stdout",
     "output_type": "stream",
     "text": [
      "13059\n",
      "13059\n",
      "9.309058886591624\n",
      "3240\n",
      "0.026651969695723345\n"
     ]
    },
    {
     "data": {
      "text/plain": [
       "<function print>"
      ]
     },
     "execution_count": 46,
     "metadata": {},
     "output_type": "execute_result"
    }
   ],
   "source": [
    "unique_words = []\n",
    "for word in words:\n",
    "    if word not in unique_words:\n",
    "        unique_words.append(word)\n",
    "print(len(unique_words))\n",
    "\n",
    "# Fast way\n",
    "print(len(set(words)))\n",
    "\n",
    "# How many times is the typical unique word used?\n",
    "print(len(words) / len(unique_words))\n",
    "\n",
    "# Occurences of \"and\" in list of words\n",
    "and_words = []\n",
    "count = 0\n",
    "for word in words:\n",
    "    if word == \"and\":\n",
    "        and_words.append(word)\n",
    "        count += 1\n",
    "print(len(and_words))\n",
    "\n",
    "# Fraction of words with \"and\"\n",
    "print(len(and_words) / len(words))\n",
    "\n",
    "# Count the number of occurences of each word in words\n",
    "count_dict = {}\n",
    "for word in words:\n",
    "    count_dict[word] = count_dict.get(word, 0) + 1\n",
    "print # something\n",
    "\n",
    "\n"
   ]
  }
 ],
 "metadata": {
  "kernelspec": {
   "display_name": "Python 3",
   "language": "python",
   "name": "python3"
  },
  "language_info": {
   "codemirror_mode": {
    "name": "ipython",
    "version": 3
   },
   "file_extension": ".py",
   "mimetype": "text/x-python",
   "name": "python",
   "nbconvert_exporter": "python",
   "pygments_lexer": "ipython3",
   "version": "3.7.8"
  },
  "orig_nbformat": 4,
  "vscode": {
   "interpreter": {
    "hash": "0a54084e6b208ee8d1ce3989ffc20924477a5f55f5a43e22e699a6741623861e"
   }
  }
 },
 "nbformat": 4,
 "nbformat_minor": 2
}
