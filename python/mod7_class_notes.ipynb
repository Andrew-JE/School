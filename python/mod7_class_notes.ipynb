{
 "cells": [
  {
   "cell_type": "code",
   "execution_count": 2,
   "metadata": {},
   "outputs": [
    {
     "name": "stdout",
     "output_type": "stream",
     "text": [
      "n\n"
     ]
    }
   ],
   "source": [
    "my_name = \"Andrew Essex\"\n",
    "second = my_name[1]\n",
    "print(second)"
   ]
  },
  {
   "cell_type": "code",
   "execution_count": 3,
   "metadata": {},
   "outputs": [
    {
     "name": "stdout",
     "output_type": "stream",
     "text": [
      "12\n"
     ]
    }
   ],
   "source": [
    "my_name = \"Andrew Essex\"\n",
    "print(len(my_name))"
   ]
  },
  {
   "cell_type": "code",
   "execution_count": 4,
   "metadata": {},
   "outputs": [
    {
     "name": "stdout",
     "output_type": "stream",
     "text": [
      "x\n"
     ]
    }
   ],
   "source": [
    "last_character = my_name[11]\n",
    "print(last_character)"
   ]
  },
  {
   "cell_type": "code",
   "execution_count": 9,
   "metadata": {},
   "outputs": [
    {
     "name": "stdout",
     "output_type": "stream",
     "text": [
      "A\n",
      "n\n",
      "d\n",
      "r\n",
      "e\n",
      "w\n",
      " \n",
      "E\n",
      "s\n",
      "s\n",
      "e\n",
      "x\n"
     ]
    }
   ],
   "source": [
    "length = len(my_name)\n",
    "i = 0\n",
    "while i < length:\n",
    "    print(my_name[i]) \n",
    "    i += 1"
   ]
  },
  {
   "cell_type": "code",
   "execution_count": 11,
   "metadata": {},
   "outputs": [
    {
     "name": "stdout",
     "output_type": "stream",
     "text": [
      "A\n",
      "n\n",
      "d\n",
      "r\n",
      "e\n",
      "w\n",
      " \n",
      "E\n",
      "s\n",
      "s\n",
      "e\n",
      "x\n"
     ]
    }
   ],
   "source": [
    "for character in my_name:\n",
    "    print(character)"
   ]
  },
  {
   "cell_type": "code",
   "execution_count": 13,
   "metadata": {},
   "outputs": [
    {
     "name": "stdout",
     "output_type": "stream",
     "text": [
      "w E\n"
     ]
    }
   ],
   "source": [
    "straddle = my_name[5:8]\n",
    "print(straddle)"
   ]
  },
  {
   "cell_type": "code",
   "execution_count": 22,
   "metadata": {},
   "outputs": [
    {
     "name": "stdout",
     "output_type": "stream",
     "text": [
      "6\n",
      "Andrew\n",
      "Essex\n"
     ]
    }
   ],
   "source": [
    "blank_pos = 6\n",
    "first_name = my_name[:blank_pos]\n",
    "last_name = my_name[blank_pos + 1:]\n",
    "print(blank_pos)\n",
    "print(first_name)\n",
    "print(last_name)"
   ]
  },
  {
   "cell_type": "code",
   "execution_count": 23,
   "metadata": {},
   "outputs": [
    {
     "name": "stdout",
     "output_type": "stream",
     "text": [
      "True\n"
     ]
    }
   ],
   "source": [
    "blank_pos2 = my_name.find(' ')\n",
    "print(blank_pos == blank_pos2)"
   ]
  },
  {
   "cell_type": "code",
   "execution_count": 34,
   "metadata": {},
   "outputs": [
    {
     "name": "stdout",
     "output_type": "stream",
     "text": [
      "andrew essex\n",
      "Andrew essex\n",
      "Andrew Essex\n",
      "ANDREW ESSEX\n",
      "Andrxw Essxx\n"
     ]
    }
   ],
   "source": [
    "lower_name = my_name.lower()\n",
    "print(lower_name)\n",
    "cap_name = lower_name.capitalize()\n",
    "print(cap_name)\n",
    "both_caps = lower_name.title()\n",
    "print(both_caps)\n",
    "upper_name = lower_name.upper()\n",
    "print(upper_name)\n",
    "\n",
    "devoweled = devoweled.replace('a', 'x')\n",
    "devoweled = devoweled.replace('e', 'x')\n",
    "devoweled = devoweled.replace('i', 'x')\n",
    "devoweled = devoweled.replace('o', 'x')\n",
    "devoweled = devoweled.replace('u', 'x')\n",
    "print(devoweled)\n",
    "\n",
    "\n",
    "\n",
    "\n"
   ]
  },
  {
   "cell_type": "code",
   "execution_count": 37,
   "metadata": {},
   "outputs": [
    {
     "name": "stdout",
     "output_type": "stream",
     "text": [
      "True\n"
     ]
    }
   ],
   "source": [
    "name = input(\"What is your name? \")\n",
    "\n",
    "def check(name):\n",
    "    if name[-3:] == 'sen' or 'son':\n",
    "        return True\n",
    "    else:\n",
    "        return False\n",
    "\n",
    "print(check(name))\n"
   ]
  },
  {
   "cell_type": "code",
   "execution_count": 36,
   "metadata": {},
   "outputs": [
    {
     "name": "stdout",
     "output_type": "stream",
     "text": [
      "True\n",
      "False\n",
      "True\n"
     ]
    }
   ],
   "source": [
    "def check(name):\n",
    "    return name.endswith('son') or name.endswith('sen')\n",
    "\n",
    "print(check(\"Johnson\"))\n",
    "print(check(\"Smith\"))\n",
    "print(check(\"Anderson\"))"
   ]
  },
  {
   "cell_type": "code",
   "execution_count": 38,
   "metadata": {},
   "outputs": [
    {
     "name": "stdout",
     "output_type": "stream",
     "text": [
      "Abc\n"
     ]
    }
   ],
   "source": [
    "s = 'abc'\n",
    "s = s.capitalize()\n",
    "print(s)"
   ]
  },
  {
   "cell_type": "code",
   "execution_count": 46,
   "metadata": {},
   "outputs": [
    {
     "name": "stdout",
     "output_type": "stream",
     "text": [
      "Ueia\n"
     ]
    }
   ],
   "source": [
    "original_string = \"Use this fact\"\n",
    "new_string = \"\"\n",
    "vowels = \"AEIOUaeiou\"\n",
    "\n",
    "for char in original_string:\n",
    "    if char in vowels:\n",
    "        new_string += char\n",
    "\n",
    "print(new_string)\n"
   ]
  },
  {
   "cell_type": "code",
   "execution_count": 55,
   "metadata": {},
   "outputs": [
    {
     "name": "stdout",
     "output_type": "stream",
     "text": [
      "Ueia\n"
     ]
    }
   ],
   "source": [
    "original_string = \"Use this fact\"\n",
    "new_string = \"\"\n",
    "vowels = \"AEIOUaeiou\"\n",
    "\n",
    "for index, char in enumerate(original_string):\n",
    "    if index % 2 == 0 and char in vowels:\n",
    "        new_string += char\n",
    "\n",
    "print(new_string)\n"
   ]
  },
  {
   "cell_type": "code",
   "execution_count": 57,
   "metadata": {},
   "outputs": [
    {
     "name": "stdout",
     "output_type": "stream",
     "text": [
      "html\n"
     ]
    }
   ],
   "source": [
    "file_name = input(\"Name of file? \")\n",
    "file_type = file_name.split('.')\n",
    "print(file_type[1])\n",
    "\n"
   ]
  }
 ],
 "metadata": {
  "kernelspec": {
   "display_name": "Python 3",
   "language": "python",
   "name": "python3"
  },
  "language_info": {
   "codemirror_mode": {
    "name": "ipython",
    "version": 3
   },
   "file_extension": ".py",
   "mimetype": "text/x-python",
   "name": "python",
   "nbconvert_exporter": "python",
   "pygments_lexer": "ipython3",
   "version": "3.7.8"
  },
  "orig_nbformat": 4,
  "vscode": {
   "interpreter": {
    "hash": "0a54084e6b208ee8d1ce3989ffc20924477a5f55f5a43e22e699a6741623861e"
   }
  }
 },
 "nbformat": 4,
 "nbformat_minor": 2
}
