{
 "cells": [
  {
   "cell_type": "code",
   "execution_count": 6,
   "metadata": {},
   "outputs": [
    {
     "name": "stdout",
     "output_type": "stream",
     "text": [
      "2013 Ford Mustang: \n",
      "\t Mileage: 25000 \n",
      "\t Sticker price: 37999\n",
      "2004 Nissan Xterra: \n",
      "\t Mileage: 89500 \n",
      "\t Sticker price: 7500\n",
      "2012 Nissan Maxima: \n",
      "\t Mileage: 25000 \n",
      "\t Sticker price: 15750\n"
     ]
    }
   ],
   "source": [
    "\n",
    "class Car:\n",
    "    def __init__(self, make, model, year, miles, price):\n",
    "        self.make = make\n",
    "        self.model = model\n",
    "        self.year = year\n",
    "        self.miles = miles\n",
    "        self.price = price\n",
    "\n",
    "    def __str__(self):\n",
    "        return(f'{self.year} {self.make} {self.model}: \\n\\t Mileage: {self.miles} \\n\\t Sticker price: {self.price}')\n",
    "        \n",
    "cars = []\n",
    "cars.append(Car('Ford', 'Mustang', 2013, 25000, 37999))\n",
    "cars.append(Car('Nissan', 'Xterra', 2004, 89500, 7500))\n",
    "cars.append(Car('Nissan', 'Maxima', 2012, 25000, 15750))\n",
    "\n",
    "for car in cars:\n",
    "    print(car)\n"
   ]
  },
  {
   "cell_type": "code",
   "execution_count": null,
   "metadata": {},
   "outputs": [],
   "source": []
  }
 ],
 "metadata": {
  "kernelspec": {
   "display_name": "Python 3",
   "language": "python",
   "name": "python3"
  },
  "language_info": {
   "codemirror_mode": {
    "name": "ipython",
    "version": 3
   },
   "file_extension": ".py",
   "mimetype": "text/x-python",
   "name": "python",
   "nbconvert_exporter": "python",
   "pygments_lexer": "ipython3",
   "version": "3.7.8"
  },
  "orig_nbformat": 4,
  "vscode": {
   "interpreter": {
    "hash": "0a54084e6b208ee8d1ce3989ffc20924477a5f55f5a43e22e699a6741623861e"
   }
  }
 },
 "nbformat": 4,
 "nbformat_minor": 2
}
