{
 "cells": [
  {
   "cell_type": "code",
   "execution_count": 8,
   "metadata": {},
   "outputs": [
    {
     "name": "stdout",
     "output_type": "stream",
     "text": [
      "2\n"
     ]
    }
   ],
   "source": [
    "def quad(a,b,c,x):\n",
    "    value = a * x**2 + b * x + c\n",
    "    return value\n",
    "\n",
    "a = int(input())\n",
    "b = int(input()) \n",
    "c = int(input())\n",
    "x = int(input())\n",
    "\n",
    "print(quad(a,b,c,x))"
   ]
  },
  {
   "cell_type": "code",
   "execution_count": 15,
   "metadata": {},
   "outputs": [
    {
     "name": "stdout",
     "output_type": "stream",
     "text": [
      "6\n"
     ]
    }
   ],
   "source": [
    "def quad(a,b,c,x):\n",
    "    return a * x**2 + b * x + c\n",
    "\n",
    "res = quad(1,-7,12,1)\n",
    "print(res)"
   ]
  },
  {
   "cell_type": "code",
   "execution_count": 22,
   "metadata": {},
   "outputs": [
    {
     "name": "stdout",
     "output_type": "stream",
     "text": [
      "1\n",
      "-7\n",
      "12\n",
      "5\n",
      "2\n"
     ]
    }
   ],
   "source": [
    "def quadv(a,b,c,x):\n",
    "    value = a * x**2 + b * x + c\n",
    "    print(a)\n",
    "    print(b)\n",
    "    print(c)\n",
    "    print(x)\n",
    "    print(value)\n",
    "\n",
    "quadv(1, -7, 12, 5)"
   ]
  },
  {
   "cell_type": "code",
   "execution_count": 35,
   "metadata": {},
   "outputs": [
    {
     "name": "stdout",
     "output_type": "stream",
     "text": [
      "True\n",
      "False\n"
     ]
    }
   ],
   "source": [
    "def divisible(m,n):\n",
    "    if m % n == 0:\n",
    "        return True\n",
    "    else:\n",
    "        return False\n",
    "\n",
    "print(divisible(4,2))\n",
    "print(divisible(5,3))\n"
   ]
  },
  {
   "cell_type": "code",
   "execution_count": 44,
   "metadata": {},
   "outputs": [
    {
     "name": "stdout",
     "output_type": "stream",
     "text": [
      "True\n",
      "False\n"
     ]
    }
   ],
   "source": [
    "def divisible(m,n):\n",
    "    return m % n == 0\n",
    "\n",
    "print(divisible(4,2))\n",
    "print(divisible(5,3))"
   ]
  },
  {
   "cell_type": "code",
   "execution_count": 56,
   "metadata": {},
   "outputs": [
    {
     "name": "stdout",
     "output_type": "stream",
     "text": [
      "fizz\n",
      "shucks\n",
      "buzz\n",
      "fizzbuzz\n"
     ]
    }
   ],
   "source": [
    "def fb(n):\n",
    "    if n % 3 == 0 and n % 5 != 0:\n",
    "        return \"fizz\"\n",
    "    elif n % 5 == 0 and n % 3 != 0:\n",
    "        return \"buzz\"\n",
    "    elif n % 3 == 0 and n % 5 == 0:\n",
    "        return \"fizzbuzz\"\n",
    "    else:\n",
    "        return \"shucks\"\n",
    "\n",
    "print(fb(6))\n",
    "print(fb(7))\n",
    "print(fb(10))\n",
    "print(fb(15))"
   ]
  },
  {
   "cell_type": "code",
   "execution_count": 57,
   "metadata": {},
   "outputs": [
    {
     "name": "stdout",
     "output_type": "stream",
     "text": [
      "fizz\n",
      "shucks\n",
      "buzz\n",
      "fizzbuzz\n"
     ]
    }
   ],
   "source": [
    "def fb(n):\n",
    "  if divisible(n,3) and divisible(n,5):\n",
    "    return(\"fizzbuzz\")\n",
    "  elif divisible(n,3):\n",
    "    return(\"fizz\")\n",
    "  elif divisible(n,5):\n",
    "    return(\"buzz\")\n",
    "  else:\n",
    "    return(\"shucks\")\n",
    "  \n",
    "print(fb(6))\n",
    "print(fb(7))\n",
    "print(fb(10))\n",
    "print(fb(15))\n"
   ]
  },
  {
   "cell_type": "code",
   "execution_count": 58,
   "metadata": {},
   "outputs": [
    {
     "name": "stdout",
     "output_type": "stream",
     "text": [
      "fizz\n",
      "shucks\n",
      "buzz\n",
      "fizzbuzz\n"
     ]
    }
   ],
   "source": [
    "def fb(n):\n",
    "    if divisible(n,3) and not divisible(n,5):\n",
    "        return(\"fizz\")\n",
    "    if divisible(n,5) and not divisible(n,3):\n",
    "        return(\"buzz\")\n",
    "    if divisible(n,3) and divisible(n,5):\n",
    "        return(\"fizzbuzz\")\n",
    "    if not divisible(n,3) and not divisible(n,5):\n",
    "        return(\"shucks\")\n",
    "\n",
    "print(fb(6))\n",
    "print(fb(7))\n",
    "print(fb(10))\n",
    "print(fb(15))        "
   ]
  },
  {
   "cell_type": "code",
   "execution_count": 65,
   "metadata": {},
   "outputs": [
    {
     "ename": "NameError",
     "evalue": "name 'weekday' is not defined",
     "output_type": "error",
     "traceback": [
      "\u001b[1;31m---------------------------------------------------------------------------\u001b[0m",
      "\u001b[1;31mNameError\u001b[0m                                 Traceback (most recent call last)",
      "\u001b[1;32m~\\AppData\\Local\\Temp\\ipykernel_11860\\891959173.py\u001b[0m in \u001b[0;36m<module>\u001b[1;34m\u001b[0m\n\u001b[0;32m      7\u001b[0m \u001b[0mx\u001b[0m \u001b[1;33m=\u001b[0m \u001b[0minput\u001b[0m\u001b[1;33m(\u001b[0m\u001b[1;33m)\u001b[0m\u001b[1;33m\u001b[0m\u001b[1;33m\u001b[0m\u001b[0m\n\u001b[0;32m      8\u001b[0m \u001b[1;33m\u001b[0m\u001b[0m\n\u001b[1;32m----> 9\u001b[1;33m \u001b[0mprint\u001b[0m\u001b[1;33m(\u001b[0m\u001b[0msleep_in\u001b[0m\u001b[1;33m(\u001b[0m\u001b[0mweekday\u001b[0m\u001b[1;33m,\u001b[0m \u001b[0mvacation\u001b[0m\u001b[1;33m)\u001b[0m\u001b[1;33m)\u001b[0m\u001b[1;33m\u001b[0m\u001b[1;33m\u001b[0m\u001b[0m\n\u001b[0m\u001b[0;32m     10\u001b[0m \u001b[1;33m\u001b[0m\u001b[0m\n\u001b[0;32m     11\u001b[0m \u001b[1;33m\u001b[0m\u001b[0m\n",
      "\u001b[1;31mNameError\u001b[0m: name 'weekday' is not defined"
     ]
    }
   ],
   "source": [
    "def sleep_in(weekday, vacation):\n",
    "    if x == weekday or vacation:\n",
    "        return True\n",
    "    if x == weekday and vacation:\n",
    "        return True\n",
    "\n",
    "x = input()        \n",
    "\n",
    "print(sleep_in(weekday, vacation))\n",
    "\n",
    "\n",
    "\n"
   ]
  },
  {
   "cell_type": "code",
   "execution_count": 67,
   "metadata": {},
   "outputs": [
    {
     "name": "stdout",
     "output_type": "stream",
     "text": [
      "True\n",
      "False\n",
      "True\n",
      "True\n"
     ]
    }
   ],
   "source": [
    "def sleep_in(weekday, vacation):\n",
    "    if (not weekday) or vacation:\n",
    "        return True\n",
    "    else:\n",
    "        return False\n",
    "\n",
    "print(sleep_in(True, True))\n",
    "print(sleep_in(True, False))\n",
    "print(sleep_in(False, True))\n",
    "print(sleep_in(False, False))"
   ]
  },
  {
   "cell_type": "code",
   "execution_count": 69,
   "metadata": {},
   "outputs": [
    {
     "name": "stdout",
     "output_type": "stream",
     "text": [
      "True\n",
      "False\n",
      "True\n",
      "True\n"
     ]
    }
   ],
   "source": [
    "def sleep_in(weekday, vacation):\n",
    "    return not weekday or vacation\n",
    "\n",
    "print(sleep_in(True, True))\n",
    "print(sleep_in(True, False))\n",
    "print(sleep_in(False, True))\n",
    "print(sleep_in(False, False))"
   ]
  }
 ],
 "metadata": {
  "kernelspec": {
   "display_name": "Python 3",
   "language": "python",
   "name": "python3"
  },
  "language_info": {
   "codemirror_mode": {
    "name": "ipython",
    "version": 3
   },
   "file_extension": ".py",
   "mimetype": "text/x-python",
   "name": "python",
   "nbconvert_exporter": "python",
   "pygments_lexer": "ipython3",
   "version": "3.7.8 (tags/v3.7.8:4b47a5b6ba, Jun 28 2020, 08:53:46) [MSC v.1916 64 bit (AMD64)]"
  },
  "orig_nbformat": 4,
  "vscode": {
   "interpreter": {
    "hash": "0a54084e6b208ee8d1ce3989ffc20924477a5f55f5a43e22e699a6741623861e"
   }
  }
 },
 "nbformat": 4,
 "nbformat_minor": 2
}
