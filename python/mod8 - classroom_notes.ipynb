{
 "cells": [
  {
   "cell_type": "code",
   "execution_count": 5,
   "metadata": {},
   "outputs": [
    {
     "name": "stdout",
     "output_type": "stream",
     "text": [
      "[1, 2, 3, 4, 5]\n"
     ]
    }
   ],
   "source": [
    "def undup(l):\n",
    "    undup_list = []\n",
    "    for i in list:\n",
    "        if i not in undup_list:\n",
    "            undup_list.append(i)\n",
    "    return undup_list\n",
    "\n",
    "\n",
    "list = [1,2,3,3,4,1,5,5,5]\n",
    "print(undup(list))"
   ]
  },
  {
   "cell_type": "code",
   "execution_count": 8,
   "metadata": {},
   "outputs": [
    {
     "name": "stdout",
     "output_type": "stream",
     "text": [
      "[5, 15, 3.0]\n"
     ]
    }
   ],
   "source": [
    "def numres(nl):\n",
    "    sum = 0\n",
    "    for n in nl:\n",
    "        sum += n\n",
    "    mean = sum/len(nl)\n",
    "    return [len(nl), sum, mean]\n",
    "    \n",
    "\n",
    "test_list = [1,2,3,4,5]\n",
    "print(numres(test_list))"
   ]
  },
  {
   "cell_type": "code",
   "execution_count": 74,
   "metadata": {},
   "outputs": [
    {
     "name": "stdout",
     "output_type": "stream",
     "text": [
      "[1, ['a', 'b', ['x', 'y']]]\n",
      "1\n",
      "b\n",
      "y\n",
      "y\n"
     ]
    },
    {
     "ename": "TypeError",
     "evalue": "'int' object is not subscriptable",
     "output_type": "error",
     "traceback": [
      "\u001b[1;31m---------------------------------------------------------------------------\u001b[0m",
      "\u001b[1;31mTypeError\u001b[0m                                 Traceback (most recent call last)",
      "\u001b[1;32m~\\AppData\\Local\\Temp\\ipykernel_60384\\2511325659.py\u001b[0m in \u001b[0;36m<module>\u001b[1;34m\u001b[0m\n\u001b[0;32m      5\u001b[0m \u001b[0mprint\u001b[0m\u001b[1;33m(\u001b[0m\u001b[0mxlist\u001b[0m\u001b[1;33m[\u001b[0m\u001b[1;36m1\u001b[0m\u001b[1;33m]\u001b[0m\u001b[1;33m[\u001b[0m\u001b[1;36m2\u001b[0m\u001b[1;33m]\u001b[0m\u001b[1;33m[\u001b[0m\u001b[1;36m1\u001b[0m\u001b[1;33m]\u001b[0m\u001b[1;33m)\u001b[0m\u001b[1;33m\u001b[0m\u001b[1;33m\u001b[0m\u001b[0m\n\u001b[0;32m      6\u001b[0m \u001b[0mprint\u001b[0m\u001b[1;33m(\u001b[0m\u001b[0mxlist\u001b[0m\u001b[1;33m[\u001b[0m\u001b[1;33m-\u001b[0m\u001b[1;36m1\u001b[0m\u001b[1;33m]\u001b[0m\u001b[1;33m[\u001b[0m\u001b[1;33m-\u001b[0m\u001b[1;36m1\u001b[0m\u001b[1;33m]\u001b[0m\u001b[1;33m[\u001b[0m\u001b[1;33m-\u001b[0m\u001b[1;36m1\u001b[0m\u001b[1;33m]\u001b[0m\u001b[1;33m)\u001b[0m\u001b[1;33m\u001b[0m\u001b[1;33m\u001b[0m\u001b[0m\n\u001b[1;32m----> 7\u001b[1;33m \u001b[0mprint\u001b[0m\u001b[1;33m(\u001b[0m\u001b[0mstr\u001b[0m\u001b[1;33m(\u001b[0m\u001b[0mxlist\u001b[0m\u001b[1;33m[\u001b[0m\u001b[1;36m0\u001b[0m\u001b[1;33m]\u001b[0m\u001b[1;33m)\u001b[0m \u001b[1;33m+\u001b[0m \u001b[0mxlist\u001b[0m\u001b[1;33m[\u001b[0m\u001b[1;36m0\u001b[0m\u001b[1;33m]\u001b[0m\u001b[1;33m[\u001b[0m\u001b[1;36m1\u001b[0m\u001b[1;33m]\u001b[0m\u001b[1;33m)\u001b[0m\u001b[1;33m\u001b[0m\u001b[1;33m\u001b[0m\u001b[0m\n\u001b[0m",
      "\u001b[1;31mTypeError\u001b[0m: 'int' object is not subscriptable"
     ]
    }
   ],
   "source": [
    "xlist = [1, [\"a\", \"b\", [\"x\", \"y\"]]]\n",
    "print(xlist)\n",
    "print(xlist[0])\n",
    "print(xlist[1][1])\n",
    "print(xlist[1][2][1])\n",
    "print(xlist[-1][-1][-1])\n",
    "print(str(xlist[0]) + xlist[0][1])"
   ]
  },
  {
   "cell_type": "code",
   "execution_count": 118,
   "metadata": {},
   "outputs": [
    {
     "name": "stdout",
     "output_type": "stream",
     "text": [
      "99\n",
      "[59, 42, 67, 99, 42, 36, 53, 18, 26, 65, 99, 15, 74, 0, 16, 21, 46, 31, 59, 54]\n",
      "[0, 15, 16, 18, 21, 26, 31, 36, 42, 42, 46, 53, 54, 59, 59, 65, 67, 74, 99, 99]\n",
      "[99, 99, 74, 67, 65, 59, 59, 54, 53, 46, 42, 42, 36, 31, 26, 21, 18, 16, 15, 0]\n",
      "None\n",
      "[99, 99, 74, 67, 65, 59, 59, 54, 53, 46, 42, 42, 36, 31, 26, 21, 18, 16, 15, 0, 150]\n"
     ]
    }
   ],
   "source": [
    "import random\n",
    "\n",
    "print(random.randint(0,100))\n",
    "\n",
    "randlist = [] #create blank list in which to add random numbers\n",
    "for i in range(20): #set number to append equal to 20\n",
    "    randlist.append(random.randint(0,100)) #append random integers btwn 0 and 100 to randlist\n",
    "print(randlist)\n",
    "\n",
    "randlist.sort()\n",
    "print(randlist)\n",
    "randlist.sort(reverse=True)\n",
    "print(randlist)\n",
    "\n",
    "appended_list = randlist.append(150)\n",
    "print(appended_list)\n",
    "print(randlist)"
   ]
  },
  {
   "cell_type": "code",
   "execution_count": 135,
   "metadata": {},
   "outputs": [
    {
     "name": "stdout",
     "output_type": "stream",
     "text": [
      "0\n"
     ]
    }
   ],
   "source": [
    "def how_many_a_in_li (a, li):\n",
    "    total = 0\n",
    "    for i in li:\n",
    "        if a == li:\n",
    "            total += 1\n",
    "    return total\n",
    "\n",
    "test_list = [1,2,2,3,2,4]\n",
    "look_for = 2\n",
    "print(how_many_a_in_li(look_for, test_list))"
   ]
  },
  {
   "cell_type": "code",
   "execution_count": 137,
   "metadata": {},
   "outputs": [
    {
     "name": "stdout",
     "output_type": "stream",
     "text": [
      "0\n"
     ]
    }
   ],
   "source": [
    "def how_many_a_in_li (a, li):\n",
    "    total = 0\n",
    "    for i in li:\n",
    "        if a == li:\n",
    "            total += 1\n",
    "    return total\n",
    "\n",
    "s = \"Mary had a little lamb\"\n",
    "look_for = \"a\"\n",
    "print(how_many_a_in_li(\"a\", s))"
   ]
  },
  {
   "cell_type": "code",
   "execution_count": 140,
   "metadata": {},
   "outputs": [
    {
     "ename": "SyntaxError",
     "evalue": "can't assign to operator (2431429841.py, line 5)",
     "output_type": "error",
     "traceback": [
      "\u001b[1;36m  File \u001b[1;32m\"C:\\Users\\Andrew.Essex\\AppData\\Local\\Temp\\ipykernel_60384\\2431429841.py\"\u001b[1;36m, line \u001b[1;32m5\u001b[0m\n\u001b[1;33m    tuple[0] * tuple[0] = tuple[1]\u001b[0m\n\u001b[1;37m    ^\u001b[0m\n\u001b[1;31mSyntaxError\u001b[0m\u001b[1;31m:\u001b[0m can't assign to operator\n"
     ]
    }
   ],
   "source": [
    "list = []\n",
    "tuple = (x, y)\n",
    "\n",
    "for i in list:\n",
    "    tuple[0] * tuple[0] = tuple[1]\n",
    "\n",
    "\n"
   ]
  },
  {
   "cell_type": "code",
   "execution_count": 141,
   "metadata": {},
   "outputs": [
    {
     "name": "stdout",
     "output_type": "stream",
     "text": [
      "[(1, 1), (2, 4), (3, 9), (4, 16), (5, 25), (6, 36), (7, 49), (8, 64), (9, 81), (10, 100)]\n"
     ]
    }
   ],
   "source": [
    "list = []\n",
    "for i in range(10):\n",
    "    list.append((i + 1, (i + 1)**2))\n",
    "\n",
    "print(list)"
   ]
  },
  {
   "cell_type": "code",
   "execution_count": 144,
   "metadata": {},
   "outputs": [
    {
     "name": "stdout",
     "output_type": "stream",
     "text": [
      "[(1, 1), (2, 4), (3, 9), (4, 16), (5, 25), (6, 36), (7, 49), (8, 64), (9, 81), (10, 100)]\n"
     ]
    }
   ],
   "source": [
    "list = []\n",
    "\n",
    "new_list = [(i + 1, (i + 1)**2) for i in range(10)]\n",
    "\n",
    "print(new_list)"
   ]
  },
  {
   "cell_type": "code",
   "execution_count": 159,
   "metadata": {},
   "outputs": [
    {
     "name": "stdout",
     "output_type": "stream",
     "text": [
      "[(1, 3), (4, 6), (7, 7), (8, 11)]\n"
     ]
    }
   ],
   "source": [
    "lol = [[1,2,3],[4,5,6],[7],[8,9,10,11]]\n",
    "lot = []\n",
    "for li in lol:\n",
    "    lot.append((li[0], li[-1]))\n",
    "print(lot)\n"
   ]
  },
  {
   "cell_type": "code",
   "execution_count": 153,
   "metadata": {},
   "outputs": [
    {
     "name": "stdout",
     "output_type": "stream",
     "text": [
      "Mary*had*a*little*lamb\n",
      "Mary*had*a*little*lamb\n"
     ]
    }
   ],
   "source": [
    "s = \"Mary had a little lamb\"\n",
    "\n",
    "split_s = s.split()\n",
    "\n",
    "t = '*'.join(split_s)\n",
    "print(t)\n",
    "\n",
    "#using string method replace()\n",
    "s = \"Mary had a little lamb\"\n",
    "\n",
    "new_s = s.replace(' ', '*')\n",
    "print(new_s)\n"
   ]
  },
  {
   "cell_type": "code",
   "execution_count": null,
   "metadata": {},
   "outputs": [],
   "source": []
  }
 ],
 "metadata": {
  "kernelspec": {
   "display_name": "Python 3",
   "language": "python",
   "name": "python3"
  },
  "language_info": {
   "codemirror_mode": {
    "name": "ipython",
    "version": 3
   },
   "file_extension": ".py",
   "mimetype": "text/x-python",
   "name": "python",
   "nbconvert_exporter": "python",
   "pygments_lexer": "ipython3",
   "version": "3.7.8"
  },
  "orig_nbformat": 4,
  "vscode": {
   "interpreter": {
    "hash": "0a54084e6b208ee8d1ce3989ffc20924477a5f55f5a43e22e699a6741623861e"
   }
  }
 },
 "nbformat": 4,
 "nbformat_minor": 2
}
