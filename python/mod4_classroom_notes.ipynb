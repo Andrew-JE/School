{
 "cells": [
  {
   "cell_type": "code",
   "execution_count": 12,
   "metadata": {},
   "outputs": [
    {
     "name": "stdout",
     "output_type": "stream",
     "text": [
      "The numerical grade is 115 and the letter grade is A.\n"
     ]
    }
   ],
   "source": [
    "num_grade = int(input())\n",
    "\n",
    "if num_grade >= 90:\n",
    "        let_grade = \"A\"\n",
    "elif num_grade >= 80:\n",
    "        let_grade = \"B\"\n",
    "elif num_grade >= 70:\n",
    "        let_grade = \"C\"\n",
    "elif num_grade >= 60:\n",
    "        let_grade = \"D\"\n",
    "elif num_grade < 60:\n",
    "        let_grade = \"F\"\n",
    "\n",
    "print(f'The numerical grade is {num_grade} and the letter grade is {let_grade}.')"
   ]
  }
 ],
 "metadata": {
  "kernelspec": {
   "display_name": "Python 3",
   "language": "python",
   "name": "python3"
  },
  "language_info": {
   "codemirror_mode": {
    "name": "ipython",
    "version": 3
   },
   "file_extension": ".py",
   "mimetype": "text/x-python",
   "name": "python",
   "nbconvert_exporter": "python",
   "pygments_lexer": "ipython3",
   "version": "3.7.8 (tags/v3.7.8:4b47a5b6ba, Jun 28 2020, 08:53:46) [MSC v.1916 64 bit (AMD64)]"
  },
  "orig_nbformat": 4,
  "vscode": {
   "interpreter": {
    "hash": "0a54084e6b208ee8d1ce3989ffc20924477a5f55f5a43e22e699a6741623861e"
   }
  }
 },
 "nbformat": 4,
 "nbformat_minor": 2
}
