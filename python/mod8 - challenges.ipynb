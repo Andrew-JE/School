{
 "cells": [
  {
   "cell_type": "code",
   "execution_count": null,
   "metadata": {},
   "outputs": [],
   "source": [
    "user_input = input()\n",
    "hourly_temperature = user_input.split()\n",
    "\n",
    "\n",
    "for i, temp in enumerate(hourly_temperature): #enumerate to get index and value\n",
    "    if i == len(hourly_temperature) - 1: #if i is equal to length of the hourly_temperature list--the last item on the list--print only the last number\n",
    "        print(temp + ' ')\n",
    "    else:\n",
    "        print(temp + ' -> ', end='') #for all other values of i other than the last, print arrow followed by a space\n",
    "    "
   ]
  },
  {
   "cell_type": "code",
   "execution_count": 19,
   "metadata": {},
   "outputs": [
    {
     "name": "stdout",
     "output_type": "stream",
     "text": [
      "1 | 2 | 3\n",
      "4 | 5 | 6\n",
      "7 | 8 | 9\n"
     ]
    }
   ],
   "source": [
    "user_input= input()\n",
    "lines = user_input.split(',')\n",
    "\n",
    "# This line uses a construct called a list comprehension, introduced elsewhere,\n",
    "# to convert the input string into a two-dimensional list.\n",
    "# Ex: 1 2, 2 4 is converted to [ [1, 2], [2, 4] ]\n",
    "\n",
    "mult_table = [[int(num) for num in line.split()] for line in lines] #splits each item in nested lists by ' ' so...[[1,2,3],[4,5,6],[7,8,9]]\n",
    "\n",
    "#my failed attempt here --> #table_with_commas = (f'{mult_table[0]}\\n{mult_table[1]}\\n{mult_table[2]}') #creates new variable set equal to list as a table, w/ 3 distinct rows\n",
    "\n",
    "for row in mult_table:\n",
    "    for value in row:\n",
    "        if value != row[-1]:\n",
    "            print(value, end=' | ')\n",
    "        else:\n",
    "            print(value)\n"
   ]
  }
 ],
 "metadata": {
  "kernelspec": {
   "display_name": "Python 3",
   "language": "python",
   "name": "python3"
  },
  "language_info": {
   "codemirror_mode": {
    "name": "ipython",
    "version": 3
   },
   "file_extension": ".py",
   "mimetype": "text/x-python",
   "name": "python",
   "nbconvert_exporter": "python",
   "pygments_lexer": "ipython3",
   "version": "3.10.10"
  },
  "orig_nbformat": 4,
  "vscode": {
   "interpreter": {
    "hash": "fdae097ff6608b61c57ad9a2af23b6f90ce9d579b2e56b2697630202e9ca4d90"
   }
  }
 },
 "nbformat": 4,
 "nbformat_minor": 2
}
