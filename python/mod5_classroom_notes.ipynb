{
 "cells": [
  {
   "cell_type": "code",
   "execution_count": 1,
   "metadata": {},
   "outputs": [
    {
     "name": "stdout",
     "output_type": "stream",
     "text": [
      "The largest value is 127.\n",
      "It occurs at index 4.\n",
      "It occurs at index 6.\n"
     ]
    }
   ],
   "source": [
    "n_list = [1,-5,16,76,127,4,127]\n",
    "lrgv = n_list[0]\n",
    "loc = 0\n",
    "for index, value in enumerate(n_list):\n",
    "    if value >= lrgv:\n",
    "        lrgv = value\n",
    "        loc = index\n",
    "print(f'The largest value is {lrgv}.')\n",
    "\n",
    "loclist = []\n",
    "for index, i in enumerate(n_list):\n",
    "    if i == lrgv:\n",
    "        loclist.append(index)\n",
    "\n",
    "for index in loclist:\n",
    "    print(f'It occurs at index {index}.')"
   ]
  }
 ],
 "metadata": {
  "kernelspec": {
   "display_name": "Python 3",
   "language": "python",
   "name": "python3"
  },
  "language_info": {
   "codemirror_mode": {
    "name": "ipython",
    "version": 3
   },
   "file_extension": ".py",
   "mimetype": "text/x-python",
   "name": "python",
   "nbconvert_exporter": "python",
   "pygments_lexer": "ipython3",
   "version": "3.7.8 (tags/v3.7.8:4b47a5b6ba, Jun 28 2020, 08:53:46) [MSC v.1916 64 bit (AMD64)]"
  },
  "orig_nbformat": 4,
  "vscode": {
   "interpreter": {
    "hash": "0a54084e6b208ee8d1ce3989ffc20924477a5f55f5a43e22e699a6741623861e"
   }
  }
 },
 "nbformat": 4,
 "nbformat_minor": 2
}
