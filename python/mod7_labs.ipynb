{
 "cells": [
  {
   "cell_type": "code",
   "execution_count": 6,
   "metadata": {},
   "outputs": [
    {
     "name": "stdout",
     "output_type": "stream",
     "text": [
      "Essex, A.J.\n"
     ]
    }
   ],
   "source": [
    "first_name = input(\"What is your first name? \")\n",
    "middle_name = input(\"What is your middle name? \")\n",
    "last_name = input(\"What is your last name? \")\n",
    "\n",
    "new_last_name = (last_name + \",\")\n",
    "\n",
    "initials = '.'.join([first_name[0], middle_name[0]])\n",
    "\n",
    "print(new_last_name + ' ' + initials + '.')"
   ]
  },
  {
   "cell_type": "code",
   "execution_count": 9,
   "metadata": {},
   "outputs": [
    {
     "name": "stdout",
     "output_type": "stream",
     "text": [
      "['Andrew', 'John', 'Essex']\n",
      "Essex, A.J.\n"
     ]
    }
   ],
   "source": [
    "name = input(\"Full name \")\n",
    "name_list = name.split() #create list to assign separate names (first, middle, last)\n",
    "print(name_list) #view list\n",
    "\n",
    "first_name = name_list[0]\n",
    "middle_name = name_list[1]\n",
    "last_name = name_list[2]\n",
    "\n",
    "new_last_name = (last_name + \",\")\n",
    "\n",
    "initials = '.'.join([first_name[0], middle_name[0]])\n",
    "\n",
    "print(new_last_name + ' ' + initials + '.')"
   ]
  },
  {
   "cell_type": "code",
   "execution_count": 20,
   "metadata": {},
   "outputs": [
    {
     "name": "stdout",
     "output_type": "stream",
     "text": [
      "['Andrew', 'Essex']\n",
      "Essex, A.\n"
     ]
    }
   ],
   "source": [
    "name = input(\"Full name\")\n",
    "name_list = name.split() #create list to assign separate names (first, middle, last)\n",
    "print(name_list) #view list\n",
    "\n",
    "for name in name_list:\n",
    "    if len(name_list) == 3:\n",
    "        first_name = name_list[0]\n",
    "        middle_name = name_list[1]\n",
    "        last_name = name_list[2]\n",
    "    else:\n",
    "        first_name = name_list[0]\n",
    "        last_name = name_list[1]\n",
    "\n",
    "new_last_name = (last_name + \",\")\n",
    "\n",
    "if len(name_list) == 3:\n",
    "    initials = '.'.join([first_name[0], middle_name[0]])\n",
    "    print(new_last_name + ' ' + initials + '.')\n",
    "else:\n",
    "    initials = first_name[0] + '.'\n",
    "    print(new_last_name + ' ' + initials)"
   ]
  },
  {
   "cell_type": "code",
   "execution_count": 33,
   "metadata": {},
   "outputs": [
    {
     "name": "stdout",
     "output_type": "stream",
     "text": [
      "2 s's\n"
     ]
    }
   ],
   "source": [
    "char_phrase = input() #string containing character and phrase\n",
    "\n",
    "char_phrase_list = char_phrase.split() #separates character from phrase into 2 value list\n",
    "\n",
    "char = char_phrase_list[0] #separates the character from the phrase and assigns it a value\n",
    "phrase = char_phrase_list[1] #assigns the phrase as separate variable from character\n",
    "\n",
    "initial_count = char_phrase.count(char) #starts count after the character, char\n",
    "\n",
    "final_count = initial_count - 1 #subtract the character from the count because it's not actually part of the phrase\n",
    "\n",
    "if final_count == 1: \n",
    "    print(str(final_count) + ' ' + char)\n",
    "else:\n",
    "    print(str(final_count) + ' ' + '\\''.join([char, 's'])) #adds the plural to the character\n",
    "\n"
   ]
  }
 ],
 "metadata": {
  "kernelspec": {
   "display_name": "Python 3",
   "language": "python",
   "name": "python3"
  },
  "language_info": {
   "codemirror_mode": {
    "name": "ipython",
    "version": 3
   },
   "file_extension": ".py",
   "mimetype": "text/x-python",
   "name": "python",
   "nbconvert_exporter": "python",
   "pygments_lexer": "ipython3",
   "version": "3.7.8"
  },
  "orig_nbformat": 4,
  "vscode": {
   "interpreter": {
    "hash": "0a54084e6b208ee8d1ce3989ffc20924477a5f55f5a43e22e699a6741623861e"
   }
  }
 },
 "nbformat": 4,
 "nbformat_minor": 2
}
