{
 "cells": [
  {
   "cell_type": "code",
   "execution_count": 5,
   "metadata": {},
   "outputs": [
    {
     "name": "stdout",
     "output_type": "stream",
     "text": [
      "Total inches: 68\n"
     ]
    }
   ],
   "source": [
    "def calc_total_inches(num_feet, num_inches):\n",
    "    total_num_inches = feet * 12 + inches\n",
    "    return total_num_inches\n",
    "\n",
    "feet = int(input())\n",
    "inches = int(input())\n",
    "print(f'Total inches: {calc_total_inches(feet, inches)}')"
   ]
  },
  {
   "cell_type": "code",
   "execution_count": 7,
   "metadata": {},
   "outputs": [
    {
     "name": "stdout",
     "output_type": "stream",
     "text": [
      "5' 8\"\n"
     ]
    }
   ],
   "source": [
    "\n",
    "def print_feet_inch_short(num_feet, num_inches):\n",
    "    print(str(num_feet) + \"' \" + str(num_inches) + \"\\\"\")\n",
    "\n",
    "user_feet = int(input())\n",
    "user_inches = int(input())\n",
    "\n",
    "print_feet_inch_short(user_feet, user_inches) # Will be run with (5, 8), then (4, 11)"
   ]
  }
 ],
 "metadata": {
  "kernelspec": {
   "display_name": "Python 3",
   "language": "python",
   "name": "python3"
  },
  "language_info": {
   "codemirror_mode": {
    "name": "ipython",
    "version": 3
   },
   "file_extension": ".py",
   "mimetype": "text/x-python",
   "name": "python",
   "nbconvert_exporter": "python",
   "pygments_lexer": "ipython3",
   "version": "3.7.8"
  },
  "orig_nbformat": 4,
  "vscode": {
   "interpreter": {
    "hash": "0a54084e6b208ee8d1ce3989ffc20924477a5f55f5a43e22e699a6741623861e"
   }
  }
 },
 "nbformat": 4,
 "nbformat_minor": 2
}
